{
 "cells": [
  {
   "cell_type": "code",
   "execution_count": 2,
   "metadata": {},
   "outputs": [],
   "source": [
    "%reload_ext autoreload\n",
    "%autoreload 2"
   ]
  },
  {
   "cell_type": "code",
   "execution_count": 3,
   "metadata": {},
   "outputs": [
    {
     "name": "stdout",
     "output_type": "stream",
     "text": [
      "Note: you may need to restart the kernel to use updated packages.\n"
     ]
    }
   ],
   "source": [
    "%pip install -q redash-api-client"
   ]
  },
  {
   "cell_type": "code",
   "execution_count": 34,
   "metadata": {},
   "outputs": [],
   "source": [
    "from redashAPI import RedashAPIClient\n",
    "import os\n",
    "from dotenv import load_dotenv\n",
    "load_dotenv()\n",
    "\n",
    "REDASH_API_KEY = os.getenv('REDASH_API_KEY')\n",
    "Redash = RedashAPIClient(REDASH_API_KEY, 'http://localhost:5001')"
   ]
  },
  {
   "cell_type": "code",
   "execution_count": 36,
   "metadata": {},
   "outputs": [
    {
     "data": {
      "text/plain": [
       "[{'id': 2,\n",
       "  'name': 'YoutubeDB',\n",
       "  'type': 'pg',\n",
       "  'syntax': 'sql',\n",
       "  'paused': 0,\n",
       "  'pause_reason': None,\n",
       "  'supports_auto_limit': True,\n",
       "  'view_only': False}]"
      ]
     },
     "execution_count": 36,
     "metadata": {},
     "output_type": "execute_result"
    }
   ],
   "source": [
    "res = Redash.get('data_sources')\n",
    "res.json()"
   ]
  },
  {
   "cell_type": "code",
   "execution_count": 26,
   "metadata": {},
   "outputs": [
    {
     "data": {
      "text/plain": [
       "{'id': 4,\n",
       " 'latest_query_data_id': None,\n",
       " 'name': 'Second Query',\n",
       " 'description': '',\n",
       " 'query': \"SELECT COUNT(*) FROM youtube.cities_chart WHERE city_name = 'Addis Ababa';\",\n",
       " 'query_hash': 'b603598da08a072eabf5ced336935fc3',\n",
       " 'schedule': None,\n",
       " 'api_key': '6Eh3Akd8xaQxMiClxneLlVv50dy02eJXZAEdArcq',\n",
       " 'is_archived': False,\n",
       " 'is_draft': True,\n",
       " 'updated_at': '2024-01-05T19:32:22.377Z',\n",
       " 'created_at': '2024-01-05T19:32:22.377Z',\n",
       " 'data_source_id': 2,\n",
       " 'options': {},\n",
       " 'version': 1,\n",
       " 'tags': [],\n",
       " 'is_safe': True,\n",
       " 'user': {'id': 1,\n",
       "  'name': 'admin',\n",
       "  'email': 'abdimussa87@gmail.com',\n",
       "  'profile_image_url': 'https://www.gravatar.com/avatar/6235f693f2dafcb553982e75aa4e3f7e?s=40&d=identicon',\n",
       "  'groups': [1, 2],\n",
       "  'updated_at': '2024-01-05T19:32:22.377Z',\n",
       "  'created_at': '2024-01-03T14:56:39.058Z',\n",
       "  'disabled_at': None,\n",
       "  'is_disabled': False,\n",
       "  'active_at': '2024-01-05T19:31:48Z',\n",
       "  'is_invitation_pending': False,\n",
       "  'is_email_verified': True,\n",
       "  'auth_type': 'password'},\n",
       " 'last_modified_by': {'id': 1,\n",
       "  'name': 'admin',\n",
       "  'email': 'abdimussa87@gmail.com',\n",
       "  'profile_image_url': 'https://www.gravatar.com/avatar/6235f693f2dafcb553982e75aa4e3f7e?s=40&d=identicon',\n",
       "  'groups': [1, 2],\n",
       "  'updated_at': '2024-01-05T19:32:22.377Z',\n",
       "  'created_at': '2024-01-03T14:56:39.058Z',\n",
       "  'disabled_at': None,\n",
       "  'is_disabled': False,\n",
       "  'active_at': '2024-01-05T19:31:48Z',\n",
       "  'is_invitation_pending': False,\n",
       "  'is_email_verified': True,\n",
       "  'auth_type': 'password'},\n",
       " 'visualizations': [{'id': 11,\n",
       "   'type': 'TABLE',\n",
       "   'name': 'Table',\n",
       "   'description': '',\n",
       "   'options': {},\n",
       "   'updated_at': '2024-01-05T19:32:22.377Z',\n",
       "   'created_at': '2024-01-05T19:32:22.377Z'}],\n",
       " 'is_favorite': False}"
      ]
     },
     "execution_count": 26,
     "metadata": {},
     "output_type": "execute_result"
    }
   ],
   "source": [
    "res = Redash.create_query(2, \"Second Query\", \"\"\"SELECT COUNT(*) FROM youtube.cities_chart WHERE city_name = 'Addis Ababa';\"\"\")\n",
    "res.json()"
   ]
  },
  {
   "cell_type": "code",
   "execution_count": 7,
   "metadata": {},
   "outputs": [
    {
     "data": {
      "text/plain": [
       "{'count': 3,\n",
       " 'page': 1,\n",
       " 'page_size': 25,\n",
       " 'results': [{'id': 3,\n",
       "   'latest_query_data_id': 4,\n",
       "   'name': 'First Query',\n",
       "   'description': '',\n",
       "   'query': 'SELECT name, SUM(views) AS total_views\\n FROM youtube.device_type_chart\\n GROUP BY name;',\n",
       "   'query_hash': '281a80a51c0f113cd0e61adb2e6c5ffc',\n",
       "   'schedule': None,\n",
       "   'api_key': '1iMGj2C2a5RW7rWHRtHYozGCAJ2WlpJZLLgZt35I',\n",
       "   'is_archived': False,\n",
       "   'is_draft': True,\n",
       "   'updated_at': '2024-01-05T18:39:17.324Z',\n",
       "   'created_at': '2024-01-05T18:39:17.324Z',\n",
       "   'data_source_id': 2,\n",
       "   'options': {},\n",
       "   'version': 1,\n",
       "   'tags': [],\n",
       "   'is_safe': True,\n",
       "   'user': {'id': 1,\n",
       "    'name': 'admin',\n",
       "    'email': 'abdimussa87@gmail.com',\n",
       "    'profile_image_url': 'https://www.gravatar.com/avatar/6235f693f2dafcb553982e75aa4e3f7e?s=40&d=identicon',\n",
       "    'groups': [1, 2],\n",
       "    'updated_at': '2024-01-05T18:39:47.660Z',\n",
       "    'created_at': '2024-01-03T14:56:39.058Z',\n",
       "    'disabled_at': None,\n",
       "    'is_disabled': False,\n",
       "    'active_at': '2024-01-05T18:39:17Z',\n",
       "    'is_invitation_pending': False,\n",
       "    'is_email_verified': True,\n",
       "    'auth_type': 'password'},\n",
       "   'last_modified_by_id': 1,\n",
       "   'retrieved_at': '2024-01-05T18:39:18.014Z',\n",
       "   'runtime': 0.04670834541320801,\n",
       "   'is_favorite': False},\n",
       "  {'id': 2,\n",
       "   'latest_query_data_id': 4,\n",
       "   'name': 'First Query',\n",
       "   'description': '',\n",
       "   'query': 'SELECT name, SUM(views) AS total_views\\n FROM youtube.device_type_chart\\n GROUP BY name;',\n",
       "   'query_hash': '281a80a51c0f113cd0e61adb2e6c5ffc',\n",
       "   'schedule': None,\n",
       "   'api_key': 'drZoqft58AuCJ8d4YFxdF4k7kTgUSzGSZfwlYtvI',\n",
       "   'is_archived': False,\n",
       "   'is_draft': True,\n",
       "   'updated_at': '2024-01-05T16:48:11.964Z',\n",
       "   'created_at': '2024-01-05T16:34:33.195Z',\n",
       "   'data_source_id': 2,\n",
       "   'options': {},\n",
       "   'version': 1,\n",
       "   'tags': [],\n",
       "   'is_safe': True,\n",
       "   'user': {'id': 1,\n",
       "    'name': 'admin',\n",
       "    'email': 'abdimussa87@gmail.com',\n",
       "    'profile_image_url': 'https://www.gravatar.com/avatar/6235f693f2dafcb553982e75aa4e3f7e?s=40&d=identicon',\n",
       "    'groups': [1, 2],\n",
       "    'updated_at': '2024-01-05T18:39:47.660Z',\n",
       "    'created_at': '2024-01-03T14:56:39.058Z',\n",
       "    'disabled_at': None,\n",
       "    'is_disabled': False,\n",
       "    'active_at': '2024-01-05T18:39:17Z',\n",
       "    'is_invitation_pending': False,\n",
       "    'is_email_verified': True,\n",
       "    'auth_type': 'password'},\n",
       "   'last_modified_by_id': 1,\n",
       "   'retrieved_at': '2024-01-05T18:39:18.014Z',\n",
       "   'runtime': 0.04670834541320801,\n",
       "   'is_favorite': False},\n",
       "  {'id': 1,\n",
       "   'latest_query_data_id': None,\n",
       "   'name': 'New Query',\n",
       "   'description': None,\n",
       "   'query': 'SELECT name, SUM(views) AS total_views\\n FROM youtube.device_type_chart\\n GROUP BY name;',\n",
       "   'query_hash': '026dd713342126082b268c198d44a981',\n",
       "   'schedule': None,\n",
       "   'api_key': 'CovwseJSyl7T3ZstzFjJoVMpmlqpfspZs76Vh8Ao',\n",
       "   'is_archived': False,\n",
       "   'is_draft': True,\n",
       "   'updated_at': '2024-01-05T15:22:36.480Z',\n",
       "   'created_at': '2024-01-05T15:22:36.480Z',\n",
       "   'data_source_id': 2,\n",
       "   'options': {'apply_auto_limit': True, 'parameters': []},\n",
       "   'version': 1,\n",
       "   'tags': [],\n",
       "   'is_safe': True,\n",
       "   'user': {'id': 1,\n",
       "    'name': 'admin',\n",
       "    'email': 'abdimussa87@gmail.com',\n",
       "    'profile_image_url': 'https://www.gravatar.com/avatar/6235f693f2dafcb553982e75aa4e3f7e?s=40&d=identicon',\n",
       "    'groups': [1, 2],\n",
       "    'updated_at': '2024-01-05T18:39:47.660Z',\n",
       "    'created_at': '2024-01-03T14:56:39.058Z',\n",
       "    'disabled_at': None,\n",
       "    'is_disabled': False,\n",
       "    'active_at': '2024-01-05T18:39:17Z',\n",
       "    'is_invitation_pending': False,\n",
       "    'is_email_verified': True,\n",
       "    'auth_type': 'password'},\n",
       "   'last_modified_by_id': 1,\n",
       "   'retrieved_at': None,\n",
       "   'runtime': None,\n",
       "   'is_favorite': False}]}"
      ]
     },
     "execution_count": 7,
     "metadata": {},
     "output_type": "execute_result"
    }
   ],
   "source": [
    "queries = Redash.get('queries')\n",
    "queries.json()"
   ]
  },
  {
   "cell_type": "code",
   "execution_count": 27,
   "metadata": {},
   "outputs": [
    {
     "data": {
      "text/plain": [
       "{'id': 12,\n",
       " 'type': 'TABLE',\n",
       " 'name': 'Views from given place',\n",
       " 'description': None,\n",
       " 'options': {'autoHeight': True,\n",
       "  'defaultColumns': 3,\n",
       "  'defaultRows': 15,\n",
       "  'itemsPerPage': 10,\n",
       "  'minColumns': 1,\n",
       "  'columns': [{'alignContent': 'left',\n",
       "    'allowHTML': True,\n",
       "    'allowSearch': False,\n",
       "    'booleanValues': [False, True],\n",
       "    'dateTimeFormat': 'DD/MM/YY HH:mm',\n",
       "    'displayAs': 'string',\n",
       "    'highlightLinks': False,\n",
       "    'imageHeight': '',\n",
       "    'imageTitleTemplate': '{{ @ }}',\n",
       "    'imageUrlTemplate': '{{ @ }}',\n",
       "    'imageWidth': '',\n",
       "    'linkOpenInNewTab': True,\n",
       "    'linkTextTemplate': '{{ @ }}',\n",
       "    'linkTitleTemplate': '{{ @ }}',\n",
       "    'linkUrlTemplate': '{{ @ }}',\n",
       "    'numberFormat': '0,0',\n",
       "    'order': 100000,\n",
       "    'title': 'column 1',\n",
       "    'visible': True,\n",
       "    'name': 'column 1',\n",
       "    'type': 'string'}]},\n",
       " 'updated_at': '2024-01-05T19:32:52.153Z',\n",
       " 'created_at': '2024-01-05T19:32:52.153Z'}"
      ]
     },
     "execution_count": 27,
     "metadata": {},
     "output_type": "execute_result"
    }
   ],
   "source": [
    "res = Redash.create_visualization(4, \"table\", \"Views from given place\", columns=[\n",
    "    {\"name\": \"column 1\", \"type\": \"string\"}\n",
    "])\n",
    "res.json()\n",
    "\n"
   ]
  },
  {
   "cell_type": "code",
   "execution_count": 13,
   "metadata": {},
   "outputs": [
    {
     "data": {
      "text/plain": [
       "{'id': 3,\n",
       " 'slug': 'new-dashboard',\n",
       " 'name': 'New Dashboard',\n",
       " 'user_id': 1,\n",
       " 'user': {'id': 1,\n",
       "  'name': 'admin',\n",
       "  'email': 'abdimussa87@gmail.com',\n",
       "  'profile_image_url': 'https://www.gravatar.com/avatar/6235f693f2dafcb553982e75aa4e3f7e?s=40&d=identicon'},\n",
       " 'layout': [],\n",
       " 'dashboard_filters_enabled': False,\n",
       " 'widgets': None,\n",
       " 'options': {},\n",
       " 'is_archived': False,\n",
       " 'is_draft': True,\n",
       " 'tags': [],\n",
       " 'updated_at': '2024-01-05T19:18:54.110Z',\n",
       " 'created_at': '2024-01-05T19:18:54.110Z',\n",
       " 'version': 1,\n",
       " 'is_favorite': False}"
      ]
     },
     "execution_count": 13,
     "metadata": {},
     "output_type": "execute_result"
    }
   ],
   "source": [
    "res = Redash.create_dashboard(\"New Dashboard\")\n",
    "res.json()"
   ]
  },
  {
   "cell_type": "code",
   "execution_count": 37,
   "metadata": {},
   "outputs": [
    {
     "data": {
      "text/plain": [
       "{'count': 3,\n",
       " 'page': 1,\n",
       " 'page_size': 25,\n",
       " 'results': [{'id': 3,\n",
       "   'slug': 'new-dashboard',\n",
       "   'name': 'New Dashboard',\n",
       "   'user_id': 1,\n",
       "   'user': {'id': 1,\n",
       "    'name': 'admin',\n",
       "    'email': 'abdimussa87@gmail.com',\n",
       "    'profile_image_url': 'https://www.gravatar.com/avatar/6235f693f2dafcb553982e75aa4e3f7e?s=40&d=identicon'},\n",
       "   'layout': [],\n",
       "   'dashboard_filters_enabled': False,\n",
       "   'widgets': None,\n",
       "   'options': {},\n",
       "   'is_archived': False,\n",
       "   'is_draft': True,\n",
       "   'tags': [],\n",
       "   'updated_at': '2024-01-05T19:18:54.110Z',\n",
       "   'created_at': '2024-01-05T19:18:54.110Z',\n",
       "   'version': 1,\n",
       "   'is_favorite': False},\n",
       "  {'id': 2,\n",
       "   'slug': 'test',\n",
       "   'name': 'test',\n",
       "   'user_id': 1,\n",
       "   'user': {'id': 1,\n",
       "    'name': 'admin',\n",
       "    'email': 'abdimussa87@gmail.com',\n",
       "    'profile_image_url': 'https://www.gravatar.com/avatar/6235f693f2dafcb553982e75aa4e3f7e?s=40&d=identicon'},\n",
       "   'layout': [],\n",
       "   'dashboard_filters_enabled': False,\n",
       "   'widgets': None,\n",
       "   'options': {},\n",
       "   'is_archived': False,\n",
       "   'is_draft': True,\n",
       "   'tags': [],\n",
       "   'updated_at': '2024-01-05T18:26:26.478Z',\n",
       "   'created_at': '2024-01-05T18:26:26.478Z',\n",
       "   'version': 1,\n",
       "   'is_favorite': False},\n",
       "  {'id': 1,\n",
       "   'slug': 'my-dashboard',\n",
       "   'name': 'My Dashboard',\n",
       "   'user_id': 1,\n",
       "   'user': {'id': 1,\n",
       "    'name': 'admin',\n",
       "    'email': 'abdimussa87@gmail.com',\n",
       "    'profile_image_url': 'https://www.gravatar.com/avatar/6235f693f2dafcb553982e75aa4e3f7e?s=40&d=identicon'},\n",
       "   'layout': [],\n",
       "   'dashboard_filters_enabled': False,\n",
       "   'widgets': None,\n",
       "   'options': {},\n",
       "   'is_archived': False,\n",
       "   'is_draft': True,\n",
       "   'tags': [],\n",
       "   'updated_at': '2024-01-05T16:39:44.092Z',\n",
       "   'created_at': '2024-01-05T16:39:44.092Z',\n",
       "   'version': 1,\n",
       "   'is_favorite': False}]}"
      ]
     },
     "execution_count": 37,
     "metadata": {},
     "output_type": "execute_result"
    }
   ],
   "source": [
    "res = Redash.get('dashboards')\n",
    "res.json()"
   ]
  },
  {
   "cell_type": "code",
   "execution_count": 29,
   "metadata": {},
   "outputs": [
    {
     "data": {
      "text/plain": [
       "<Response [200]>"
      ]
     },
     "execution_count": 29,
     "metadata": {},
     "output_type": "execute_result"
    }
   ],
   "source": [
    "Redash.add_widget(3, vs_id=12,position={\"col\": 0,\n",
    "            \"row\": 0,\n",
    "            \"sizeX\": 3,\n",
    "            \"sizeY\": 8})"
   ]
  },
  {
   "cell_type": "code",
   "execution_count": 1,
   "metadata": {},
   "outputs": [
    {
     "name": "stdout",
     "output_type": "stream",
     "text": [
      "Note: you may need to restart the kernel to use updated packages.\n"
     ]
    }
   ],
   "source": [
    "%pip install -q redash-toolbelt\n"
   ]
  },
  {
   "cell_type": "code",
   "execution_count": 9,
   "metadata": {},
   "outputs": [
    {
     "name": "stdout",
     "output_type": "stream",
     "text": [
      "None\n"
     ]
    }
   ],
   "source": [
    "from redashAPI import RedashAPIClient\n",
    "import os\n",
    "from redash_toolbelt import Redash, get_frontend_vals\n",
    "from openai import OpenAI\n",
    "from dotenv import load_dotenv\n",
    "load_dotenv()\n",
    "\n",
    "VARIABLE_KEY = os.environ.get(\"OPENAI_API_KEY\")\n",
    "client = OpenAI(\n",
    "  api_key=VARIABLE_KEY\n",
    ")\n",
    "print(VARIABLE_KEY)\n",
    "REDASH_API_KEY = os.environ.get('REDASH_API_KEY')"
   ]
  },
  {
   "cell_type": "code",
   "execution_count": 10,
   "metadata": {},
   "outputs": [],
   "source": [
    "def refresh_dashboard( baseurl, apikey, slug):\n",
    "\n",
    "    client = Redash(baseurl, apikey)\n",
    "    todays_dates = get_frontend_vals()\n",
    "    queries_dict = get_queries_on_dashboard(client, slug)\n",
    "\n",
    "    # loop through each query and its JSON data\n",
    "    for idx, qry in queries_dict.items():\n",
    "\n",
    "        params = {\n",
    "            p.get(\"name\"): fill_dynamic_val(todays_dates, p)\n",
    "            for p in qry[\"options\"].get(\"parameters\", [])\n",
    "        }\n",
    "\n",
    "        # Pass max_age to ensure a new result is provided.\n",
    "        body = {\"parameters\": params, \"max_age\": 0}\n",
    "\n",
    "        r = client._post(f\"api/queries/{idx}/results\", json=body)\n",
    "\n",
    "        print(f\"Query: {idx} -- Code {r.status_code}\")\n",
    "\n",
    "\n",
    "def get_queries_on_dashboard( client, slug):\n",
    "\n",
    "        # Get a list of queries on this dashboard\n",
    "        dash = client.dashboard(slug=slug)\n",
    "\n",
    "        # Dashboards have visualization and text box widgets. Get the viz widgets.\n",
    "        viz_widgets = [i for i in dash[\"widgets\"] if \"visualization\" in i.keys()]\n",
    "\n",
    "        # Visualizations are tied to queries\n",
    "        l_query_ids = [i[\"visualization\"][\"query\"][\"id\"] for i in viz_widgets]\n",
    "\n",
    "        return {id: client._get(f\"api/queries/{id}\").json() for id in l_query_ids}\n",
    "\n",
    "\n",
    "def fill_dynamic_val( dates, p):\n",
    "        \"\"\"Accepts parameter default information from the Redash API.\n",
    "\n",
    "        If the default value is not a date type, or its value cannot be calculated,\n",
    "        then the default value is returned unchanged.\n",
    "\n",
    "        Otherwise, the dynamic value is retrieved from the dates param and returned\n",
    "        \"\"\"\n",
    "\n",
    "        if not is_dynamic_param(dates, p):\n",
    "            return p.get(\"value\")\n",
    "        dyn_val = getattr(dates, p.get(\"value\"))\n",
    "\n",
    "        if is_date_range(dyn_val):\n",
    "            return format_date_range(dyn_val)\n",
    "        else:\n",
    "            return format_date(dyn_val)\n",
    "\n",
    "\n",
    "def is_dynamic_param( dates, param):\n",
    "\n",
    "        return \"date\" in param.get(\"type\") and param.get(\"value\") in dates._fields\n",
    "\n",
    "\n",
    "def is_date_range( value):\n",
    "        return hasattr(value, \"start\") and hasattr(value, \"end\")\n",
    "\n",
    "\n",
    "def format_date( date_obj):\n",
    "        return date_obj.strftime(\"%Y-%m-%d\")\n",
    "\n",
    "\n",
    "def format_date_range( date_range_obj):\n",
    "\n",
    "        start = format_date(date_range_obj.start)\n",
    "        end = format_date(date_range_obj.end)\n",
    "\n",
    "        return dict(start=start, end=end)"
   ]
  },
  {
   "cell_type": "code",
   "execution_count": 16,
   "metadata": {},
   "outputs": [
    {
     "name": "stdout",
     "output_type": "stream",
     "text": [
      "Query: 2 -- Code 200\n",
      "Query: 4 -- Code 200\n",
      "Query: 5 -- Code 200\n",
      "Query: 8 -- Code 200\n",
      "Query: 9 -- Code 200\n",
      "Query: 10 -- Code 200\n",
      "Query: 11 -- Code 200\n",
      "Query: 12 -- Code 200\n",
      "Query: 13 -- Code 200\n",
      "Query: 14 -- Code 200\n",
      "Query: 15 -- Code 200\n",
      "Query: 16 -- Code 200\n",
      "Query: 17 -- Code 200\n",
      "Query: 18 -- Code 200\n",
      "Query: 19 -- Code 200\n"
     ]
    }
   ],
   "source": [
    "refresh_dashboard(\"http://localhost:5001\", REDASH_API_KEY, 3)"
   ]
  },
  {
   "cell_type": "code",
   "execution_count": 15,
   "metadata": {},
   "outputs": [
    {
     "data": {
      "text/plain": [
       "['http:', '', 'localhost:5001', 'dashboards', '3-new-dashboard']"
      ]
     },
     "execution_count": 15,
     "metadata": {},
     "output_type": "execute_result"
    }
   ],
   "source": [
    "url = \"http://localhost:5001/dashboards/3-new-dashboard\"\n",
    "slug  = url.split(\"/\")[2] # -> returns 3-new-dashboard\n",
    "url.split(\"/\")"
   ]
  },
  {
   "cell_type": "code",
   "execution_count": null,
   "metadata": {},
   "outputs": [],
   "source": []
  }
 ],
 "metadata": {
  "kernelspec": {
   "display_name": "week_3_redash_chat_bot",
   "language": "python",
   "name": "python3"
  },
  "language_info": {
   "codemirror_mode": {
    "name": "ipython",
    "version": 3
   },
   "file_extension": ".py",
   "mimetype": "text/x-python",
   "name": "python",
   "nbconvert_exporter": "python",
   "pygments_lexer": "ipython3",
   "version": "3.8.18"
  }
 },
 "nbformat": 4,
 "nbformat_minor": 2
}
