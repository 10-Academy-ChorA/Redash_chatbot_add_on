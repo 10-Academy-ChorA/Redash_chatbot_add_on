{
 "cells": [
  {
   "cell_type": "code",
   "execution_count": 5,
   "metadata": {},
   "outputs": [],
   "source": [
    "%reload_ext autoreload\n",
    "%autoreload 2"
   ]
  },
  {
   "cell_type": "code",
   "execution_count": 1,
   "metadata": {},
   "outputs": [
    {
     "name": "stdout",
     "output_type": "stream",
     "text": [
      "Note: you may need to restart the kernel to use updated packages.\n"
     ]
    }
   ],
   "source": [
    "%pip install -q redash-api-client"
   ]
  },
  {
   "cell_type": "code",
   "execution_count": 6,
   "metadata": {},
   "outputs": [],
   "source": [
    "from redashAPI import RedashAPIClient\n",
    "import os\n",
    "from dotenv import load_dotenv\n",
    "load_dotenv()\n",
    "\n",
    "REDASH_API_KEY = os.getenv('REDASH_API_KEY')\n",
    "Redash = RedashAPIClient(REDASH_API_KEY, 'http://localhost:5001')"
   ]
  },
  {
   "cell_type": "code",
   "execution_count": 12,
   "metadata": {},
   "outputs": [
    {
     "data": {
      "text/plain": [
       "[{'id': 2,\n",
       "  'name': 'YoutubeDB',\n",
       "  'type': 'pg',\n",
       "  'syntax': 'sql',\n",
       "  'paused': 0,\n",
       "  'pause_reason': None,\n",
       "  'supports_auto_limit': True,\n",
       "  'view_only': False}]"
      ]
     },
     "execution_count": 12,
     "metadata": {},
     "output_type": "execute_result"
    }
   ],
   "source": [
    "res = Redash.get('data_sources')\n",
    "res.json()"
   ]
  },
  {
   "cell_type": "code",
   "execution_count": 14,
   "metadata": {},
   "outputs": [
    {
     "data": {
      "text/plain": [
       "<Response [200]>"
      ]
     },
     "execution_count": 14,
     "metadata": {},
     "output_type": "execute_result"
    }
   ],
   "source": [
    "Redash.create_query(2, \"First Query\", \"\"\"SELECT name, SUM(views) AS total_views\n",
    " FROM youtube.device_type_chart\n",
    " GROUP BY name;\"\"\")"
   ]
  },
  {
   "cell_type": "code",
   "execution_count": 15,
   "metadata": {},
   "outputs": [
    {
     "data": {
      "text/plain": [
       "{'count': 2,\n",
       " 'page': 1,\n",
       " 'page_size': 25,\n",
       " 'results': [{'id': 2,\n",
       "   'latest_query_data_id': 3,\n",
       "   'name': 'First Query',\n",
       "   'description': '',\n",
       "   'query': 'SELECT name, SUM(views) AS total_views\\n FROM youtube.device_type_chart\\n GROUP BY name;',\n",
       "   'query_hash': '281a80a51c0f113cd0e61adb2e6c5ffc',\n",
       "   'schedule': None,\n",
       "   'api_key': 'drZoqft58AuCJ8d4YFxdF4k7kTgUSzGSZfwlYtvI',\n",
       "   'is_archived': False,\n",
       "   'is_draft': True,\n",
       "   'updated_at': '2024-01-05T16:34:33.195Z',\n",
       "   'created_at': '2024-01-05T16:34:33.195Z',\n",
       "   'data_source_id': 2,\n",
       "   'options': {},\n",
       "   'version': 1,\n",
       "   'tags': [],\n",
       "   'is_safe': True,\n",
       "   'user': {'id': 1,\n",
       "    'name': 'admin',\n",
       "    'email': 'abdimussa87@gmail.com',\n",
       "    'profile_image_url': 'https://www.gravatar.com/avatar/6235f693f2dafcb553982e75aa4e3f7e?s=40&d=identicon',\n",
       "    'groups': [1, 2],\n",
       "    'updated_at': '2024-01-05T16:35:21.098Z',\n",
       "    'created_at': '2024-01-03T14:56:39.058Z',\n",
       "    'disabled_at': None,\n",
       "    'is_disabled': False,\n",
       "    'active_at': '2024-01-05T16:34:59Z',\n",
       "    'is_invitation_pending': False,\n",
       "    'is_email_verified': True,\n",
       "    'auth_type': 'password'},\n",
       "   'last_modified_by_id': 1,\n",
       "   'retrieved_at': '2024-01-05T16:34:33.927Z',\n",
       "   'runtime': 0.03445291519165039,\n",
       "   'is_favorite': False},\n",
       "  {'id': 1,\n",
       "   'latest_query_data_id': None,\n",
       "   'name': 'New Query',\n",
       "   'description': None,\n",
       "   'query': 'SELECT name, SUM(views) AS total_views\\n FROM youtube.device_type_chart\\n GROUP BY name;',\n",
       "   'query_hash': '026dd713342126082b268c198d44a981',\n",
       "   'schedule': None,\n",
       "   'api_key': 'CovwseJSyl7T3ZstzFjJoVMpmlqpfspZs76Vh8Ao',\n",
       "   'is_archived': False,\n",
       "   'is_draft': True,\n",
       "   'updated_at': '2024-01-05T15:22:36.480Z',\n",
       "   'created_at': '2024-01-05T15:22:36.480Z',\n",
       "   'data_source_id': 2,\n",
       "   'options': {'apply_auto_limit': True, 'parameters': []},\n",
       "   'version': 1,\n",
       "   'tags': [],\n",
       "   'is_safe': True,\n",
       "   'user': {'id': 1,\n",
       "    'name': 'admin',\n",
       "    'email': 'abdimussa87@gmail.com',\n",
       "    'profile_image_url': 'https://www.gravatar.com/avatar/6235f693f2dafcb553982e75aa4e3f7e?s=40&d=identicon',\n",
       "    'groups': [1, 2],\n",
       "    'updated_at': '2024-01-05T16:35:21.098Z',\n",
       "    'created_at': '2024-01-03T14:56:39.058Z',\n",
       "    'disabled_at': None,\n",
       "    'is_disabled': False,\n",
       "    'active_at': '2024-01-05T16:34:59Z',\n",
       "    'is_invitation_pending': False,\n",
       "    'is_email_verified': True,\n",
       "    'auth_type': 'password'},\n",
       "   'last_modified_by_id': 1,\n",
       "   'retrieved_at': None,\n",
       "   'runtime': None,\n",
       "   'is_favorite': False}]}"
      ]
     },
     "execution_count": 15,
     "metadata": {},
     "output_type": "execute_result"
    }
   ],
   "source": [
    "queries = Redash.get('queries')\n",
    "queries.json()"
   ]
  },
  {
   "cell_type": "code",
   "execution_count": 27,
   "metadata": {},
   "outputs": [
    {
     "data": {
      "text/plain": [
       "{'id': 5,\n",
       " 'type': 'TABLE',\n",
       " 'name': 'Number of views by device',\n",
       " 'description': None,\n",
       " 'options': {'autoHeight': True,\n",
       "  'defaultColumns': 3,\n",
       "  'defaultRows': 15,\n",
       "  'itemsPerPage': 10,\n",
       "  'minColumns': 1,\n",
       "  'columns': [{'alignContent': 'left',\n",
       "    'allowHTML': True,\n",
       "    'allowSearch': False,\n",
       "    'booleanValues': [False, True],\n",
       "    'dateTimeFormat': 'DD/MM/YY HH:mm',\n",
       "    'displayAs': 'string',\n",
       "    'highlightLinks': False,\n",
       "    'imageHeight': '',\n",
       "    'imageTitleTemplate': '{{ @ }}',\n",
       "    'imageUrlTemplate': '{{ @ }}',\n",
       "    'imageWidth': '',\n",
       "    'linkOpenInNewTab': True,\n",
       "    'linkTextTemplate': '{{ @ }}',\n",
       "    'linkTitleTemplate': '{{ @ }}',\n",
       "    'linkUrlTemplate': '{{ @ }}',\n",
       "    'numberFormat': '0,0',\n",
       "    'order': 100000,\n",
       "    'title': 'column1',\n",
       "    'visible': True,\n",
       "    'name': 'column1',\n",
       "    'type': 'string'},\n",
       "   {'alignContent': 'left',\n",
       "    'allowHTML': True,\n",
       "    'allowSearch': False,\n",
       "    'booleanValues': [False, True],\n",
       "    'dateTimeFormat': 'DD/MM/YY HH:mm',\n",
       "    'displayAs': 'string',\n",
       "    'highlightLinks': False,\n",
       "    'imageHeight': '',\n",
       "    'imageTitleTemplate': '{{ @ }}',\n",
       "    'imageUrlTemplate': '{{ @ }}',\n",
       "    'imageWidth': '',\n",
       "    'linkOpenInNewTab': True,\n",
       "    'linkTextTemplate': '{{ @ }}',\n",
       "    'linkTitleTemplate': '{{ @ }}',\n",
       "    'linkUrlTemplate': '{{ @ }}',\n",
       "    'numberFormat': '0,0',\n",
       "    'order': 100001,\n",
       "    'title': 'column2',\n",
       "    'visible': True,\n",
       "    'name': 'column2',\n",
       "    'type': 'datetime'}]},\n",
       " 'updated_at': '2024-01-05T16:48:11.964Z',\n",
       " 'created_at': '2024-01-05T16:48:11.964Z'}"
      ]
     },
     "execution_count": 27,
     "metadata": {},
     "output_type": "execute_result"
    }
   ],
   "source": [
    "res = Redash.create_visualization(2, \"table\", \"Number of views by device\", columns=[\n",
    "    {\"name\": \"column1\", \"type\": \"string\"},\n",
    "    {\"name\": \"column2\", \"type\": \"datetime\"}\n",
    "])\n",
    "res.json()\n",
    "\n"
   ]
  },
  {
   "cell_type": "code",
   "execution_count": 17,
   "metadata": {},
   "outputs": [
    {
     "data": {
      "text/plain": [
       "{'id': 1,\n",
       " 'slug': 'my-dashboard',\n",
       " 'name': 'My Dashboard',\n",
       " 'user_id': 1,\n",
       " 'user': {'id': 1,\n",
       "  'name': 'admin',\n",
       "  'email': 'abdimussa87@gmail.com',\n",
       "  'profile_image_url': 'https://www.gravatar.com/avatar/6235f693f2dafcb553982e75aa4e3f7e?s=40&d=identicon'},\n",
       " 'layout': [],\n",
       " 'dashboard_filters_enabled': False,\n",
       " 'widgets': None,\n",
       " 'options': {},\n",
       " 'is_archived': False,\n",
       " 'is_draft': True,\n",
       " 'tags': [],\n",
       " 'updated_at': '2024-01-05T16:39:44.092Z',\n",
       " 'created_at': '2024-01-05T16:39:44.092Z',\n",
       " 'version': 1,\n",
       " 'is_favorite': False}"
      ]
     },
     "execution_count": 17,
     "metadata": {},
     "output_type": "execute_result"
    }
   ],
   "source": [
    "res = Redash.create_dashboard(\"My Dashboard\")\n",
    "res.json()"
   ]
  },
  {
   "cell_type": "code",
   "execution_count": 20,
   "metadata": {},
   "outputs": [
    {
     "data": {
      "text/plain": [
       "{'count': 1,\n",
       " 'page': 1,\n",
       " 'page_size': 25,\n",
       " 'results': [{'id': 1,\n",
       "   'slug': 'my-dashboard',\n",
       "   'name': 'My Dashboard',\n",
       "   'user_id': 1,\n",
       "   'user': {'id': 1,\n",
       "    'name': 'admin',\n",
       "    'email': 'abdimussa87@gmail.com',\n",
       "    'profile_image_url': 'https://www.gravatar.com/avatar/6235f693f2dafcb553982e75aa4e3f7e?s=40&d=identicon'},\n",
       "   'layout': [],\n",
       "   'dashboard_filters_enabled': False,\n",
       "   'widgets': None,\n",
       "   'options': {},\n",
       "   'is_archived': False,\n",
       "   'is_draft': True,\n",
       "   'tags': [],\n",
       "   'updated_at': '2024-01-05T16:39:44.092Z',\n",
       "   'created_at': '2024-01-05T16:39:44.092Z',\n",
       "   'version': 1,\n",
       "   'is_favorite': False}]}"
      ]
     },
     "execution_count": 20,
     "metadata": {},
     "output_type": "execute_result"
    }
   ],
   "source": [
    "res = Redash.get('dashboards')\n",
    "res.json()"
   ]
  },
  {
   "cell_type": "code",
   "execution_count": 25,
   "metadata": {},
   "outputs": [
    {
     "ename": "Exception",
     "evalue": "[GET] /api/dashboards/None (500)",
     "output_type": "error",
     "traceback": [
      "\u001b[0;31m---------------------------------------------------------------------------\u001b[0m",
      "\u001b[0;31mException\u001b[0m                                 Traceback (most recent call last)",
      "Cell \u001b[0;32mIn[25], line 1\u001b[0m\n\u001b[0;32m----> 1\u001b[0m \u001b[43mRedash\u001b[49m\u001b[38;5;241;43m.\u001b[39;49m\u001b[43madd_widget\u001b[49m\u001b[43m(\u001b[49m\u001b[38;5;241;43m4\u001b[39;49m\u001b[43m,\u001b[49m\u001b[43m \u001b[49m\u001b[43mvs_id\u001b[49m\u001b[38;5;241;43m=\u001b[39;49m\u001b[38;5;241;43m1\u001b[39;49m\u001b[43m)\u001b[49m\n",
      "File \u001b[0;32m~/miniconda3/envs/week_3_redash_chat_bot/lib/python3.8/site-packages/redashAPI/client.py:258\u001b[0m, in \u001b[0;36mRedashAPIClient.add_widget\u001b[0;34m(self, db_id, text, vs_id, full_width, position)\u001b[0m\n\u001b[1;32m    249\u001b[0m \u001b[38;5;28;01mif\u001b[39;00m position \u001b[38;5;129;01mis\u001b[39;00m \u001b[38;5;28;01mNone\u001b[39;00m \u001b[38;5;129;01mor\u001b[39;00m \u001b[38;5;129;01mnot\u001b[39;00m \u001b[38;5;28misinstance\u001b[39m(position, \u001b[38;5;28mdict\u001b[39m):\n\u001b[1;32m    250\u001b[0m     position \u001b[38;5;241m=\u001b[39m {}\n\u001b[1;32m    252\u001b[0m payload \u001b[38;5;241m=\u001b[39m {\n\u001b[1;32m    253\u001b[0m     \u001b[38;5;124m\"\u001b[39m\u001b[38;5;124mdashboard_id\u001b[39m\u001b[38;5;124m\"\u001b[39m: db_id,\n\u001b[1;32m    254\u001b[0m     \u001b[38;5;124m\"\u001b[39m\u001b[38;5;124mtext\u001b[39m\u001b[38;5;124m\"\u001b[39m: text,\n\u001b[1;32m    255\u001b[0m     \u001b[38;5;124m\"\u001b[39m\u001b[38;5;124mvisualization_id\u001b[39m\u001b[38;5;124m\"\u001b[39m: vs_id,\n\u001b[1;32m    256\u001b[0m     \u001b[38;5;124m\"\u001b[39m\u001b[38;5;124mwidth\u001b[39m\u001b[38;5;124m\"\u001b[39m: \u001b[38;5;241m1\u001b[39m,\n\u001b[1;32m    257\u001b[0m     \u001b[38;5;124m\"\u001b[39m\u001b[38;5;124moptions\u001b[39m\u001b[38;5;124m\"\u001b[39m: {\n\u001b[0;32m--> 258\u001b[0m         \u001b[38;5;124m\"\u001b[39m\u001b[38;5;124mposition\u001b[39m\u001b[38;5;124m\"\u001b[39m: position \u001b[38;5;129;01mor\u001b[39;00m \u001b[38;5;28;43mself\u001b[39;49m\u001b[38;5;241;43m.\u001b[39;49m\u001b[43mcalculate_widget_position\u001b[49m\u001b[43m(\u001b[49m\u001b[43mdb_id\u001b[49m\u001b[43m,\u001b[49m\u001b[43m \u001b[49m\u001b[43mfull_width\u001b[49m\u001b[43m)\u001b[49m\n\u001b[1;32m    259\u001b[0m     }\n\u001b[1;32m    260\u001b[0m }\n\u001b[1;32m    262\u001b[0m \u001b[38;5;28;01mreturn\u001b[39;00m \u001b[38;5;28mself\u001b[39m\u001b[38;5;241m.\u001b[39mpost(\u001b[38;5;124m'\u001b[39m\u001b[38;5;124mwidgets\u001b[39m\u001b[38;5;124m'\u001b[39m, payload)\n",
      "File \u001b[0;32m~/miniconda3/envs/week_3_redash_chat_bot/lib/python3.8/site-packages/redashAPI/client.py:269\u001b[0m, in \u001b[0;36mRedashAPIClient.calculate_widget_position\u001b[0;34m(self, db_id, full_width)\u001b[0m\n\u001b[1;32m    266\u001b[0m dashboards \u001b[38;5;241m=\u001b[39m res\u001b[38;5;241m.\u001b[39mjson()\u001b[38;5;241m.\u001b[39mget(\u001b[38;5;124m'\u001b[39m\u001b[38;5;124mresults\u001b[39m\u001b[38;5;124m'\u001b[39m, [])\n\u001b[1;32m    267\u001b[0m slug \u001b[38;5;241m=\u001b[39m \u001b[38;5;28mnext\u001b[39m((d[\u001b[38;5;124m'\u001b[39m\u001b[38;5;124mslug\u001b[39m\u001b[38;5;124m'\u001b[39m] \u001b[38;5;28;01mfor\u001b[39;00m d \u001b[38;5;129;01min\u001b[39;00m dashboards \u001b[38;5;28;01mif\u001b[39;00m d[\u001b[38;5;124m'\u001b[39m\u001b[38;5;124mid\u001b[39m\u001b[38;5;124m'\u001b[39m] \u001b[38;5;241m==\u001b[39m db_id), \u001b[38;5;28;01mNone\u001b[39;00m)\n\u001b[0;32m--> 269\u001b[0m res \u001b[38;5;241m=\u001b[39m \u001b[38;5;28;43mself\u001b[39;49m\u001b[38;5;241;43m.\u001b[39;49m\u001b[43mget\u001b[49m\u001b[43m(\u001b[49m\u001b[38;5;124;43mf\u001b[39;49m\u001b[38;5;124;43m'\u001b[39;49m\u001b[38;5;124;43mdashboards/\u001b[39;49m\u001b[38;5;132;43;01m{\u001b[39;49;00m\u001b[43mslug\u001b[49m\u001b[38;5;132;43;01m}\u001b[39;49;00m\u001b[38;5;124;43m'\u001b[39;49m\u001b[43m)\u001b[49m\n\u001b[1;32m    270\u001b[0m widgets \u001b[38;5;241m=\u001b[39m res\u001b[38;5;241m.\u001b[39mjson()\u001b[38;5;241m.\u001b[39mget(\u001b[38;5;124m'\u001b[39m\u001b[38;5;124mwidgets\u001b[39m\u001b[38;5;124m'\u001b[39m, [])\n\u001b[1;32m    272\u001b[0m exceed_half_width_widgets_count \u001b[38;5;241m=\u001b[39m \u001b[38;5;241m0\u001b[39m\n",
      "File \u001b[0;32m~/miniconda3/envs/week_3_redash_chat_bot/lib/python3.8/site-packages/redashAPI/client.py:18\u001b[0m, in \u001b[0;36mRedashAPIClient.get\u001b[0;34m(self, uri)\u001b[0m\n\u001b[1;32m     15\u001b[0m res \u001b[38;5;241m=\u001b[39m \u001b[38;5;28mself\u001b[39m\u001b[38;5;241m.\u001b[39ms\u001b[38;5;241m.\u001b[39mget(\u001b[38;5;124mf\u001b[39m\u001b[38;5;124m\"\u001b[39m\u001b[38;5;132;01m{\u001b[39;00m\u001b[38;5;28mself\u001b[39m\u001b[38;5;241m.\u001b[39mhost\u001b[38;5;132;01m}\u001b[39;00m\u001b[38;5;124m/api/\u001b[39m\u001b[38;5;132;01m{\u001b[39;00muri\u001b[38;5;132;01m}\u001b[39;00m\u001b[38;5;124m\"\u001b[39m)\n\u001b[1;32m     17\u001b[0m \u001b[38;5;28;01mif\u001b[39;00m res\u001b[38;5;241m.\u001b[39mstatus_code \u001b[38;5;241m!=\u001b[39m \u001b[38;5;241m200\u001b[39m:\n\u001b[0;32m---> 18\u001b[0m     \u001b[38;5;28;01mraise\u001b[39;00m \u001b[38;5;167;01mException\u001b[39;00m(\u001b[38;5;124mf\u001b[39m\u001b[38;5;124m\"\u001b[39m\u001b[38;5;124m[GET] /api/\u001b[39m\u001b[38;5;132;01m{\u001b[39;00muri\u001b[38;5;132;01m}\u001b[39;00m\u001b[38;5;124m (\u001b[39m\u001b[38;5;132;01m{\u001b[39;00mres\u001b[38;5;241m.\u001b[39mstatus_code\u001b[38;5;132;01m}\u001b[39;00m\u001b[38;5;124m)\u001b[39m\u001b[38;5;124m\"\u001b[39m)\n\u001b[1;32m     20\u001b[0m \u001b[38;5;28;01mreturn\u001b[39;00m res\n",
      "\u001b[0;31mException\u001b[0m: [GET] /api/dashboards/None (500)"
     ]
    }
   ],
   "source": [
    "Redash.add_widget(4, vs_id=1)"
   ]
  },
  {
   "cell_type": "code",
   "execution_count": null,
   "metadata": {},
   "outputs": [],
   "source": []
  }
 ],
 "metadata": {
  "kernelspec": {
   "display_name": "week_3_redash_chat_bot",
   "language": "python",
   "name": "python3"
  },
  "language_info": {
   "codemirror_mode": {
    "name": "ipython",
    "version": 3
   },
   "file_extension": ".py",
   "mimetype": "text/x-python",
   "name": "python",
   "nbconvert_exporter": "python",
   "pygments_lexer": "ipython3",
   "version": "3.8.18"
  }
 },
 "nbformat": 4,
 "nbformat_minor": 2
}
